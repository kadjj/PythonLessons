{
  "nbformat": 4,
  "nbformat_minor": 0,
  "metadata": {
    "colab": {
      "name": "Cards_shuffle",
      "provenance": [],
      "collapsed_sections": [],
      "authorship_tag": "ABX9TyNM5MB2GpR8lJ1MGvgR3Ypy",
      "include_colab_link": true
    },
    "kernelspec": {
      "name": "python3",
      "display_name": "Python 3"
    },
    "language_info": {
      "name": "python"
    }
  },
  "cells": [
    {
      "cell_type": "markdown",
      "metadata": {
        "id": "view-in-github",
        "colab_type": "text"
      },
      "source": [
        "<a href=\"https://colab.research.google.com/github/kadjj/PythonLessons/blob/main/Cards_shuffle.ipynb\" target=\"_parent\"><img src=\"https://colab.research.google.com/assets/colab-badge.svg\" alt=\"Open In Colab\"/></a>"
      ]
    },
    {
      "cell_type": "markdown",
      "source": [
        "# Question 1\n",
        "Python time countdown"
      ],
      "metadata": {
        "id": "DW9oE4N01WOS"
      }
    },
    {
      "cell_type": "code",
      "execution_count": 7,
      "metadata": {
        "id": "lVGrzzTZ0IyJ"
      },
      "outputs": [],
      "source": [
        "import time\n",
        "def time_countdown(time_seconds: int) -> None: #returns none\n",
        "    while time_seconds:\n",
        "        minutes, seconds = divmod(time_seconds, 60)\n",
        "        formatted_time = '{:02d}:{:02d}'.format(minutes, seconds) #d means digits: mm:ss\n",
        "        print(formatted_time)\n",
        "        time.sleep(1)\n",
        "        time_seconds -= 1\n",
        "\n"
      ]
    },
    {
      "cell_type": "code",
      "source": [
        "time_countdown(10)"
      ],
      "metadata": {
        "colab": {
          "base_uri": "https://localhost:8080/"
        },
        "id": "wiTb945q1C2i",
        "outputId": "8ebe4ad2-9635-423e-d10b-8233302120d0"
      },
      "execution_count": 9,
      "outputs": [
        {
          "output_type": "stream",
          "name": "stdout",
          "text": [
            "00:10\n",
            "00:09\n",
            "00:08\n",
            "00:07\n",
            "00:06\n",
            "00:05\n",
            "00:04\n",
            "00:03\n",
            "00:02\n",
            "00:01\n"
          ]
        }
      ]
    },
    {
      "cell_type": "code",
      "source": [
        "divmod(125, 60)"
      ],
      "metadata": {
        "colab": {
          "base_uri": "https://localhost:8080/"
        },
        "id": "I_dfUwgJ0T8J",
        "outputId": "58790de8-7475-4407-e687-ecce749081cd"
      },
      "execution_count": 3,
      "outputs": [
        {
          "output_type": "execute_result",
          "data": {
            "text/plain": [
              "(2, 5)"
            ]
          },
          "metadata": {},
          "execution_count": 3
        }
      ]
    },
    {
      "cell_type": "markdown",
      "source": [
        "# Question 2\n",
        "shuffle a card: \n",
        "deck of cards = 52 \n",
        "suits = heart, clubs, spade, diamonds\n",
        "values = A,2,3,4,5,6,7,8,9,10,j,k,q "
      ],
      "metadata": {
        "id": "96Ibd5vl2bJ5"
      }
    },
    {
      "cell_type": "code",
      "source": [
        "from itertools import product\n",
        "from random import shuffle, choice\n",
        "class Card:\n",
        "  def __init__(self):\n",
        "    self.suites = ['heart', 'club', 'spade', 'diamond']\n",
        "    self.values = ['A', '2', '3', '4', '5', '6', '7', '8', '9', '10', 'J', 'Q', 'K']\n",
        "    self.deckset = []\n",
        "\n",
        "  def deck_set(self):\n",
        "    for item in self.suites:\n",
        "      for val in self.values:\n",
        "        self.deckset.append(f'{val} of {item}')\n",
        "\n",
        "  def deck_set_iter(self):\n",
        "    return list(product(self.suites, self.values))\n",
        "\n",
        "  def get_deck_of_cards(self):\n",
        "    return self.deckset\n",
        "\n",
        "  def shuffle_deckset(self):\n",
        "    shuffle(self.deckset)"
      ],
      "metadata": {
        "id": "3VrgM3g50YTs"
      },
      "execution_count": 71,
      "outputs": []
    },
    {
      "cell_type": "code",
      "source": [
        "card = Card()\n",
        "card.deck_set()\n",
        "card.shuffle_deckset()\n",
        "#card.get_deck_of_cards()"
      ],
      "metadata": {
        "id": "XDvOSyaa4_cw"
      },
      "execution_count": 52,
      "outputs": []
    },
    {
      "cell_type": "code",
      "source": [
        "cards = card.deck_set_iter()\n",
        "shuffle(cards)"
      ],
      "metadata": {
        "id": "CV23dcVj5GfO"
      },
      "execution_count": 56,
      "outputs": []
    },
    {
      "cell_type": "code",
      "source": [
        "print(cards)"
      ],
      "metadata": {
        "colab": {
          "base_uri": "https://localhost:8080/"
        },
        "id": "RpkNgY365KY9",
        "outputId": "06b73739-04f0-4995-9582-d985c45f4da7"
      },
      "execution_count": 58,
      "outputs": [
        {
          "output_type": "stream",
          "name": "stdout",
          "text": [
            "[('heart', 'K'), ('spade', '6'), ('spade', 'J'), ('club', '6'), ('spade', 'Q'), ('diamond', '10'), ('diamond', '9'), ('diamond', '8'), ('heart', '8'), ('diamond', 'Q'), ('club', '9'), ('spade', 'K'), ('club', '5'), ('diamond', 'A'), ('club', 'K'), ('club', 'Q'), ('heart', '7'), ('spade', '5'), ('heart', '2'), ('diamond', 'J'), ('club', '3'), ('heart', '10'), ('heart', '5'), ('heart', '4'), ('club', '2'), ('diamond', '3'), ('diamond', '7'), ('spade', '9'), ('spade', '3'), ('spade', '4'), ('spade', '8'), ('diamond', '2'), ('heart', 'J'), ('club', '10'), ('club', '4'), ('spade', '2'), ('club', 'J'), ('diamond', '5'), ('heart', '6'), ('club', '7'), ('heart', '9'), ('diamond', '6'), ('club', 'A'), ('club', '8'), ('spade', '10'), ('spade', 'A'), ('spade', '7'), ('heart', '3'), ('heart', 'Q'), ('heart', 'A'), ('diamond', 'K'), ('diamond', '4')]\n"
          ]
        }
      ]
    },
    {
      "cell_type": "code",
      "source": [
        "def players_card(no_players:int = 3, no_player_cards:int = 5):\n",
        "  if len(cards) < (no_players * no_player_cards):\n",
        "    raise Exception(\"Insufficient Cards\")\n",
        "  \n",
        "  cards_per_player = [[] for i in  range(no_players)]\n",
        "  for player in range(no_players):\n",
        "    for num in range(no_player_cards):\n",
        "      cards_per_player[player].append(cards.pop())\n",
        "  \n",
        "  return cards_per_player"
      ],
      "metadata": {
        "id": "fCP6VtNxCkr5"
      },
      "execution_count": 61,
      "outputs": []
    },
    {
      "cell_type": "code",
      "source": [
        "players = players_card()"
      ],
      "metadata": {
        "id": "QfSvE9r7CpdY"
      },
      "execution_count": 63,
      "outputs": []
    },
    {
      "cell_type": "code",
      "source": [
        "players[0]\n"
      ],
      "metadata": {
        "colab": {
          "base_uri": "https://localhost:8080/"
        },
        "id": "DpKoTMcyD08q",
        "outputId": "a0f00e2a-472a-479b-c27c-f47ecbbb981f"
      },
      "execution_count": 65,
      "outputs": [
        {
          "output_type": "execute_result",
          "data": {
            "text/plain": [
              "[('club', 'J'), ('spade', '2'), ('club', '4'), ('club', '10'), ('heart', 'J')]"
            ]
          },
          "metadata": {},
          "execution_count": 65
        }
      ]
    },
    {
      "cell_type": "code",
      "source": [
        "players[1]"
      ],
      "metadata": {
        "colab": {
          "base_uri": "https://localhost:8080/"
        },
        "id": "CJInW0dgD8a1",
        "outputId": "d4057d9b-911f-488d-e99d-3bc7aac7c32d"
      },
      "execution_count": 67,
      "outputs": [
        {
          "output_type": "execute_result",
          "data": {
            "text/plain": [
              "[('diamond', '2'),\n",
              " ('spade', '8'),\n",
              " ('spade', '4'),\n",
              " ('spade', '3'),\n",
              " ('spade', '9')]"
            ]
          },
          "metadata": {},
          "execution_count": 67
        }
      ]
    },
    {
      "cell_type": "code",
      "source": [
        "choice(players[1])"
      ],
      "metadata": {
        "colab": {
          "base_uri": "https://localhost:8080/"
        },
        "id": "W407DEorED96",
        "outputId": "96b3f24c-1a37-43f5-98e8-7451df3f5ce4"
      },
      "execution_count": 72,
      "outputs": [
        {
          "output_type": "execute_result",
          "data": {
            "text/plain": [
              "('spade', '8')"
            ]
          },
          "metadata": {},
          "execution_count": 72
        }
      ]
    },
    {
      "cell_type": "code",
      "source": [
        "def play_a_card(card_list):\n",
        "  played = choice(card_list)\n",
        "  card_list.remove(played)\n",
        "  return played, card_list"
      ],
      "metadata": {
        "id": "YQqMOfBzEEu3"
      },
      "execution_count": 73,
      "outputs": []
    },
    {
      "cell_type": "code",
      "source": [
        "\n",
        "play_a_card(players[1])"
      ],
      "metadata": {
        "colab": {
          "base_uri": "https://localhost:8080/"
        },
        "id": "F1WG6tBnER5b",
        "outputId": "2b3b8ff2-d6ff-4884-efe7-dfcfebfa9ecd"
      },
      "execution_count": 74,
      "outputs": [
        {
          "output_type": "execute_result",
          "data": {
            "text/plain": [
              "(('spade', '9'),\n",
              " [('diamond', '2'), ('spade', '8'), ('spade', '4'), ('spade', '3')])"
            ]
          },
          "metadata": {},
          "execution_count": 74
        }
      ]
    },
    {
      "cell_type": "code",
      "source": [
        "len(cards)"
      ],
      "metadata": {
        "colab": {
          "base_uri": "https://localhost:8080/"
        },
        "id": "J4IWXucZEWw2",
        "outputId": "f60a52c3-34c8-419e-d6cf-c3ce584f9c7b"
      },
      "execution_count": 75,
      "outputs": [
        {
          "output_type": "execute_result",
          "data": {
            "text/plain": [
              "22"
            ]
          },
          "metadata": {},
          "execution_count": 75
        }
      ]
    },
    {
      "cell_type": "code",
      "source": [],
      "metadata": {
        "id": "YEHlNt7xEdFe"
      },
      "execution_count": null,
      "outputs": []
    }
  ]
}