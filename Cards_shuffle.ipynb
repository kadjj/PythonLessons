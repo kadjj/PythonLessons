{
  "nbformat": 4,
  "nbformat_minor": 0,
  "metadata": {
    "colab": {
      "name": "Cards_shuffle",
      "provenance": [],
      "collapsed_sections": [],
      "authorship_tag": "ABX9TyNJ2MwN84GCHEl0Ylxk/Fqz",
      "include_colab_link": true
    },
    "kernelspec": {
      "name": "python3",
      "display_name": "Python 3"
    },
    "language_info": {
      "name": "python"
    }
  },
  "cells": [
    {
      "cell_type": "markdown",
      "metadata": {
        "id": "view-in-github",
        "colab_type": "text"
      },
      "source": [
        "<a href=\"https://colab.research.google.com/github/kadjj/PythonLessons/blob/main/Cards_shuffle.ipynb\" target=\"_parent\"><img src=\"https://colab.research.google.com/assets/colab-badge.svg\" alt=\"Open In Colab\"/></a>"
      ]
    },
    {
      "cell_type": "markdown",
      "source": [
        "# Question 1\n",
        "Python time countdown"
      ],
      "metadata": {
        "id": "DW9oE4N01WOS"
      }
    },
    {
      "cell_type": "code",
      "execution_count": 7,
      "metadata": {
        "id": "lVGrzzTZ0IyJ"
      },
      "outputs": [],
      "source": [
        "import time\n",
        "def time_countdown(time_seconds: int) -> None: #returns none\n",
        "    while time_seconds:\n",
        "        minutes, seconds = divmod(time_seconds, 60)\n",
        "        formatted_time = '{:02d}:{:02d}'.format(minutes, seconds) #d means digits: mm:ss\n",
        "        print(formatted_time)\n",
        "        time.sleep(1)\n",
        "        time_seconds -= 1\n",
        "\n"
      ]
    },
    {
      "cell_type": "code",
      "source": [
        "time_countdown(10)"
      ],
      "metadata": {
        "colab": {
          "base_uri": "https://localhost:8080/"
        },
        "id": "wiTb945q1C2i",
        "outputId": "8ebe4ad2-9635-423e-d10b-8233302120d0"
      },
      "execution_count": 9,
      "outputs": [
        {
          "output_type": "stream",
          "name": "stdout",
          "text": [
            "00:10\n",
            "00:09\n",
            "00:08\n",
            "00:07\n",
            "00:06\n",
            "00:05\n",
            "00:04\n",
            "00:03\n",
            "00:02\n",
            "00:01\n"
          ]
        }
      ]
    },
    {
      "cell_type": "code",
      "source": [
        "divmod(125, 60)"
      ],
      "metadata": {
        "colab": {
          "base_uri": "https://localhost:8080/"
        },
        "id": "I_dfUwgJ0T8J",
        "outputId": "58790de8-7475-4407-e687-ecce749081cd"
      },
      "execution_count": 3,
      "outputs": [
        {
          "output_type": "execute_result",
          "data": {
            "text/plain": [
              "(2, 5)"
            ]
          },
          "metadata": {},
          "execution_count": 3
        }
      ]
    },
    {
      "cell_type": "markdown",
      "source": [
        "# Question 2\n",
        "shuffle a card: \n",
        "deck of cards = 52 \n",
        "suits = heart, clubs, spade, diamonds\n",
        "values = A,2,3,4,5,6,7,8,9,10,j,k,q "
      ],
      "metadata": {
        "id": "96Ibd5vl2bJ5"
      }
    },
    {
      "cell_type": "code",
      "source": [
        "from itertools import product\n",
        "from random import shuffle\n",
        "class Card:\n",
        "  def __init__(self):\n",
        "    self.suites = ['heart', 'club', 'spade', 'diamond']\n",
        "    self.values = ['A', '2', '3', '4', '5', '6', '7', '8', '9', '10', 'J', 'Q', 'K']\n",
        "    self.deckset = []\n",
        "\n",
        "  def deck_set(self):\n",
        "    for item in self.suites:\n",
        "      for val in self.values:\n",
        "        self.deckset.append(f'{val} of {item}')\n",
        "\n",
        "  def deck_set_iter(self):\n",
        "    return list(product(self.suites, self.values))\n",
        "\n",
        "  def get_deck_of_cards(self):\n",
        "    return self.deckset\n",
        "\n",
        "  def shuffle_deckset(self):\n",
        "    shuffle(self.deckset)"
      ],
      "metadata": {
        "id": "3VrgM3g50YTs"
      },
      "execution_count": 51,
      "outputs": []
    },
    {
      "cell_type": "code",
      "source": [
        "card = Card()\n",
        "card.deck_set()\n",
        "card.shuffle_deckset()\n",
        "#card.get_deck_of_cards()"
      ],
      "metadata": {
        "id": "XDvOSyaa4_cw"
      },
      "execution_count": 52,
      "outputs": []
    },
    {
      "cell_type": "code",
      "source": [
        "cards = card.deck_set_iter()\n",
        "shuffle(cards)"
      ],
      "metadata": {
        "id": "CV23dcVj5GfO"
      },
      "execution_count": 56,
      "outputs": []
    },
    {
      "cell_type": "code",
      "source": [
        "print(cards)"
      ],
      "metadata": {
        "colab": {
          "base_uri": "https://localhost:8080/"
        },
        "id": "RpkNgY365KY9",
        "outputId": "7dc92cdc-4b73-450b-b576-b1996f693639"
      },
      "execution_count": 57,
      "outputs": [
        {
          "output_type": "stream",
          "name": "stdout",
          "text": [
            "[('heart', 'K'), ('spade', '6'), ('spade', 'J'), ('club', '6'), ('spade', 'Q'), ('diamond', '10'), ('diamond', '9'), ('diamond', '8'), ('heart', '8'), ('diamond', 'Q'), ('club', '9'), ('spade', 'K'), ('club', '5'), ('diamond', 'A'), ('club', 'K'), ('club', 'Q'), ('heart', '7'), ('spade', '5'), ('heart', '2'), ('diamond', 'J'), ('club', '3'), ('heart', '10'), ('heart', '5'), ('heart', '4'), ('club', '2'), ('diamond', '3'), ('diamond', '7'), ('spade', '9'), ('spade', '3'), ('spade', '4'), ('spade', '8'), ('diamond', '2'), ('heart', 'J'), ('club', '10'), ('club', '4'), ('spade', '2'), ('club', 'J'), ('diamond', '5'), ('heart', '6'), ('club', '7'), ('heart', '9'), ('diamond', '6'), ('club', 'A'), ('club', '8'), ('spade', '10'), ('spade', 'A'), ('spade', '7'), ('heart', '3'), ('heart', 'Q'), ('heart', 'A'), ('diamond', 'K'), ('diamond', '4')]\n"
          ]
        }
      ]
    }
  ]
}